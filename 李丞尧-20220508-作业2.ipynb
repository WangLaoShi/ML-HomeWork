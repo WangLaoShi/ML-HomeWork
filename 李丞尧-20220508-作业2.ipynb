{
 "cells": [
  {
   "cell_type": "code",
   "execution_count": null,
   "id": "c189cda8",
   "metadata": {},
   "outputs": [],
   "source": [
    "# MSE  \n",
    "import numpy as np\n",
    "def MSE(y_ori, y_pre)\n",
    "    MSE = np.square(y_pre - y_ori)\n",
    "    MSE = np.mean(MSE)\n",
    "    return MSE\n",
    "\n",
    " # RMSE\n",
    "import numpy as np\n",
    "def RMSE(y_ori, y_pre)\n",
    "    mse = np.square(y_pre - y_ori)\n",
    "    mse = np.mean(mse)\n",
    "    RMSE = np.square(mse)\n",
    "    return RMSE \n",
    "\n",
    "# MAE\n",
    "import numpy as np\n",
    "def MAE(y_ori, y_pre)\n",
    "    mae = np.abs(y_pre - y_ori);\n",
    "    MAE = np.mean(mae);\n",
    "    return MAE \n",
    "\n",
    "# R2\n",
    "import numpy as np\n",
    "def R2(y_ori, y_pre)\n",
    "    y_omean = np.mean(y_ori);\n",
    "    R2 = 1- np.sum(np.square(y_ori - y_pre))/np.sum(np.square(y_ori-y_omean));\n",
    "    return MAE "
   ]
  }
 ],
 "metadata": {
  "kernelspec": {
   "display_name": "Python 3",
   "language": "python",
   "name": "python3"
  },
  "language_info": {
   "codemirror_mode": {
    "name": "ipython",
    "version": 3
   },
   "file_extension": ".py",
   "mimetype": "text/x-python",
   "name": "python",
   "nbconvert_exporter": "python",
   "pygments_lexer": "ipython3",
   "version": "3.8.8"
  }
 },
 "nbformat": 4,
 "nbformat_minor": 5
}
