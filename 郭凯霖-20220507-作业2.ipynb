{
 "cells": [
  {
   "cell_type": "markdown",
   "id": "9a4428a1",
   "metadata": {},
   "source": [
    "## 均方误差MSE"
   ]
  },
  {
   "cell_type": "code",
   "execution_count": 6,
   "id": "30e23717",
   "metadata": {},
   "outputs": [],
   "source": [
    "import numpy as np\n",
    "\n",
    "\n",
    "def mse_value(y_true, y_pred):\n",
    "    \"\"\"\n",
    "    参数:\n",
    "    y_true -- 测试集目标真实值\n",
    "    y_pred -- 测试集目标预测值\n",
    "    返回:\n",
    "    mse -- MSE 评价指标\n",
    "    \"\"\"\n",
    "\n",
    "    n = len(y_true)\n",
    "    mse = sum(np.square(y_true - y_pred)) / n\n",
    "    return mse\n",
    "\n"
   ]
  },
  {
   "cell_type": "markdown",
   "id": "cd94937c",
   "metadata": {},
   "source": [
    "## 均方根误差RMSE"
   ]
  },
  {
   "cell_type": "code",
   "execution_count": 7,
   "id": "a1b7e49d",
   "metadata": {},
   "outputs": [],
   "source": [
    "def rmse_value(y_true, y_pred):\n",
    "    \"\"\"\n",
    "    参数:\n",
    "    y_true -- 测试集目标真实值\n",
    "    y_pred -- 测试集目标预测值\n",
    "    返回:\n",
    "    rmse -- RMSE 评价指标\n",
    "    \"\"\"\n",
    "\n",
    "    n = len(y_true)\n",
    "    mse = (sum(np.square(y_true - y_pred)) / n) ** 0.5\n",
    "    return rmse"
   ]
  },
  {
   "cell_type": "markdown",
   "id": "5c5f68a6",
   "metadata": {},
   "source": [
    "## 平均绝对误差MAE"
   ]
  },
  {
   "cell_type": "code",
   "execution_count": 8,
   "id": "4a65da06",
   "metadata": {},
   "outputs": [],
   "source": []
  },
  {
   "cell_type": "markdown",
   "id": "41a63b0d",
   "metadata": {},
   "source": [
    "## R-squared"
   ]
  },
  {
   "cell_type": "code",
   "execution_count": null,
   "id": "9673a4c4",
   "metadata": {},
   "outputs": [],
   "source": []
  },
  {
   "cell_type": "code",
   "execution_count": null,
   "id": "464e3193",
   "metadata": {},
   "outputs": [],
   "source": []
  }
 ],
 "metadata": {
  "kernelspec": {
   "display_name": "Python 3",
   "language": "python",
   "name": "python3"
  },
  "language_info": {
   "codemirror_mode": {
    "name": "ipython",
    "version": 3
   },
   "file_extension": ".py",
   "mimetype": "text/x-python",
   "name": "python",
   "nbconvert_exporter": "python",
   "pygments_lexer": "ipython3",
   "version": "3.8.8"
  },
  "toc": {
   "base_numbering": 1,
   "nav_menu": {},
   "number_sections": true,
   "sideBar": true,
   "skip_h1_title": false,
   "title_cell": "Table of Contents",
   "title_sidebar": "Contents",
   "toc_cell": false,
   "toc_position": {},
   "toc_section_display": true,
   "toc_window_display": false
  }
 },
 "nbformat": 4,
 "nbformat_minor": 5
}
