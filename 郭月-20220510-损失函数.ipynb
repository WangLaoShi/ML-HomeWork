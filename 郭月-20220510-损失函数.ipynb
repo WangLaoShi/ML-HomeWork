{
 "cells": [
  {
   "cell_type": "code",
   "execution_count": null,
   "metadata": {},
   "outputs": [],
   "source": [
    "import numpy as np\n",
    "def MSELoss(x:list,y:list): #MSE\n",
    "    \"\"\"\n",
    "    x:list，代表模型预测的一组数据\n",
    "    y:list，代表真实样本对应的一组数据\n",
    "    \"\"\"\n",
    "    assert len(x)==len(y)\n",
    "    x=np.array(x)\n",
    "    y=np.array(y)\n",
    "    loss=np.sum(np.square(x - y)) / len(x)\n",
    "    return loss"
   ]
  },
  {
   "cell_type": "code",
   "execution_count": null,
   "metadata": {},
   "outputs": [],
   "source": [
    "import numpy as np\n",
    "# 均方根误差RMSE\n",
    "def RMSELoss(x:list,y:list):\n",
    "    \"\"\"\n",
    "    x:list，代表模型预测的一组数据\n",
    "    y:list，代表真实样本对应的一组数据\n",
    "    \"\"\"\n",
    "    assert len(x)==len(y)\n",
    "    x=np.array(x)\n",
    "    y=np.array(y)\n",
    "    loss=np.sqrt(np.sum(np.square(x - y)) / len(x))\n",
    "    return loss"
   ]
  },
  {
   "cell_type": "code",
   "execution_count": null,
   "metadata": {},
   "outputs": [],
   "source": [
    "import numpy as np\n",
    "# 平均绝对误差\n",
    "def MAELoss(x:list,y:list):\n",
    "    \"\"\"\n",
    "    x:list，代表模型预测的一组数据\n",
    "    y:list，代表真实样本对应的一组数据\n",
    "    \"\"\"\n",
    "    assert len(x)==len(y)\n",
    "    x=np.array(x)\n",
    "    y=np.array(y)\n",
    "    loss=np.sqrt(np.sum(np.square(x - y)) / len(x))/n\n",
    "    return loss"
   ]
  },
  {
   "cell_type": "code",
   "execution_count": null,
   "metadata": {},
   "outputs": [],
   "source": [
    "import numpy as np\n",
    "# R^2误差\n",
    "def R2Loss(x:list,y:list):\n",
    "    \"\"\"\n",
    "    x:list，代表模型预测的一组数据\n",
    "    y:list，代表真实样本对应的一组数据\n",
    "    \"\"\"\n",
    "    assert len(x)==len(y)\n",
    "    x=np.array(x)\n",
    "    y=np.array(y)\n",
    "    t=np.sum(y)/len(y)\n",
    "    loss=1-((np.sum(np.square(x - y)) )/(np.sum(np.square(y-t))))\n",
    "    loss=np.sqrt(np.sum(np.square(x - y)) / len(x))\n",
    "    return loss"
   ]
  }
 ],
 "metadata": {
  "kernelspec": {
   "display_name": "Python 3",
   "language": "python",
   "name": "python3"
  },
  "language_info": {
   "codemirror_mode": {
    "name": "ipython",
    "version": 3
   },
   "file_extension": ".py",
   "mimetype": "text/x-python",
   "name": "python",
   "nbconvert_exporter": "python",
   "pygments_lexer": "ipython3",
   "version": "3.7.0"
  },
  "toc": {
   "base_numbering": 1,
   "nav_menu": {},
   "number_sections": true,
   "sideBar": true,
   "skip_h1_title": false,
   "title_cell": "Table of Contents",
   "title_sidebar": "Contents",
   "toc_cell": false,
   "toc_position": {},
   "toc_section_display": true,
   "toc_window_display": false
  }
 },
 "nbformat": 4,
 "nbformat_minor": 2
}
