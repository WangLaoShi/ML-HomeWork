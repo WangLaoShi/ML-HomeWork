{
 "cells": [
  {
   "cell_type": "code",
   "execution_count": 1,
   "id": "71a34819",
   "metadata": {},
   "outputs": [],
   "source": [
    "import numpy as np\n",
    "import matplotlib as plot\n",
    "import pandas as pd "
   ]
  },
  {
   "cell_type": "code",
   "execution_count": 40,
   "id": "390b3a41",
   "metadata": {},
   "outputs": [],
   "source": [
    "# 整体思路：\n",
    "y_predict = np.array([1, 3, 5, 7, 9])\n",
    "y_real = np.array([1, -3, 4, 5, 8])\n",
    "num = len(y_predict)"
   ]
  },
  {
   "cell_type": "code",
   "execution_count": 41,
   "id": "7b4d3258",
   "metadata": {},
   "outputs": [
    {
     "name": "stdout",
     "output_type": "stream",
     "text": [
      "8.4\n"
     ]
    }
   ],
   "source": [
    "# MSE 均方误差的定义\n",
    "def mse(y_predict, y_real, num):\n",
    "    root = y_predict-y_real\n",
    "    return np.dot(root, root)/num\n",
    "\n",
    "print(mse(y_predict, y_real, num))"
   ]
  },
  {
   "cell_type": "code",
   "execution_count": 44,
   "id": "72251f8c",
   "metadata": {},
   "outputs": [
    {
     "name": "stdout",
     "output_type": "stream",
     "text": [
      "2.898275349237888\n"
     ]
    }
   ],
   "source": [
    "# RMSE 均方根误差的定义\n",
    "def rmse(y_predict, y_real, num):\n",
    "    root = y_predict-y_real\n",
    "    return np.sqrt(np.dot(root, root)/num)\n",
    "\n",
    "print(rmse(y_predict, y_real, num))"
   ]
  },
  {
   "cell_type": "code",
   "execution_count": 45,
   "id": "4d91b964",
   "metadata": {},
   "outputs": [
    {
     "name": "stdout",
     "output_type": "stream",
     "text": [
      "8.4\n"
     ]
    }
   ],
   "source": [
    "# MAE 平均绝对误差\n",
    "def mae(y_predict, y_real, num):\n",
    "    root = np.abs(y_predict-y_real)\n",
    "    return np.dot(root, root)/num\n",
    "\n",
    "print(mae(y_predict, y_real, num))"
   ]
  },
  {
   "cell_type": "code",
   "execution_count": 48,
   "id": "f81a7b51",
   "metadata": {},
   "outputs": [
    {
     "name": "stdout",
     "output_type": "stream",
     "text": [
      "-89.0\n"
     ]
    }
   ],
   "source": [
    "# R-squared R方\n",
    "def r_squared(y_predict, y_real):\n",
    "    y_mean = np.mean(y_predict)\n",
    "    root = y_predict-y_real\n",
    "    mean_root = y_mean - y_real\n",
    "    return 1 - np.dot(mean_root, mean_root)\n",
    "\n",
    "print(r_squared(y_predict, y_real))"
   ]
  },
  {
   "cell_type": "code",
   "execution_count": 46,
   "id": "78214ec7",
   "metadata": {},
   "outputs": [
    {
     "data": {
      "text/plain": [
       "5.0"
      ]
     },
     "execution_count": 46,
     "metadata": {},
     "output_type": "execute_result"
    }
   ],
   "source": []
  },
  {
   "cell_type": "code",
   "execution_count": null,
   "id": "f23461c9",
   "metadata": {},
   "outputs": [],
   "source": []
  }
 ],
 "metadata": {
  "kernelspec": {
   "display_name": "Python 3",
   "language": "python",
   "name": "python3"
  },
  "language_info": {
   "codemirror_mode": {
    "name": "ipython",
    "version": 3
   },
   "file_extension": ".py",
   "mimetype": "text/x-python",
   "name": "python",
   "nbconvert_exporter": "python",
   "pygments_lexer": "ipython3",
   "version": "3.8.8"
  },
  "toc": {
   "base_numbering": 1,
   "nav_menu": {},
   "number_sections": true,
   "sideBar": true,
   "skip_h1_title": false,
   "title_cell": "Table of Contents",
   "title_sidebar": "Contents",
   "toc_cell": false,
   "toc_position": {},
   "toc_section_display": true,
   "toc_window_display": false
  }
 },
 "nbformat": 4,
 "nbformat_minor": 5
}
