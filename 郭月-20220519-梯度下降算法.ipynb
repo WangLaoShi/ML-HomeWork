{
 "cells": [
  {
   "cell_type": "markdown",
   "metadata": {},
   "source": [
    "## Backtracking line search 回溯线性搜索\n",
    "线搜索的目的是在搜索方向上找到是目标函数$f(x)$最小的点。然而，精确找到最小点比较耗时，由于搜索方向本来就是近似，所以用较小的代价找到最小点的近似就可以了。Backtracking line search（BLS）就是这样一种线性搜索算法\n",
    "\n",
    "**BLS算法的思想是：在搜索方向上，先设置一个初始步长$\\alpha _0$,如果步长太大，则缩减步长，直到合适为止**\n",
    "1. 如何判断当前步长是否合适：\n",
    "\n",
    "<center> $ f(x+\\alpha p)<=f(x)+\\alpha cm $ </center>\n",
    "<center>$ m=p^T \\nabla f(x)  $ </center>\n",
    "其中，P是当前搜寻方向，$\\alpha$是步长，c是控制参数，需要根据情况人工核定。\n",
    "\n",
    "从上式可以看出，当前点的斜率越小，$ f(x+\\alpha p)-f(x)$的要求越小，步长就越小。对于一般的凸问题，搜寻点越接近最优点，原函数的斜率就七月小，因此步长越小，这也是符合直觉的。\n",
    "\n",
    "2. 如何缩减步长\n",
    "搜索步长的缩减通过$\\tau $参数来控制，主要通过人工核定，即 $\\alpha _j=\\tau \\alpha_(j-1)\n",
    "\n",
    "总结BLS的算法流程：\n",
    "\n",
    "(1)设置初始步长 $\\alpha _0$\n",
    "\n",
    "(2)判断$ f(x+\\alpha p)<=f(x)+\\alpha cm $ 是否满足，如果满足，停止；否则(3)\n",
    "\n",
    "(3)$\\alpha _j=\\tau \\alpha_(j-1)$，重复2\n"
   ]
  },
  {
   "cell_type": "code",
   "execution_count": 6,
   "metadata": {},
   "outputs": [
    {
     "name": "stdout",
     "output_type": "stream",
     "text": [
      "8.2944 0.7056000000000012\n",
      "0.6502809600000009 0.05531904000000035\n",
      "0.05098202726400033 0.004337012736000018\n",
      "0.003996990937497611 0.00034002179850240664\n",
      "0.00031336408949982016 2.665770900258648e-05\n",
      "2.456774461678329e-05 2.089964385803191e-06\n",
      "6\n"
     ]
    },
    {
     "data": {
      "image/png": "[encoded data removed]",
      "text/plain": [
       "<Figure size 432x288 with 1 Axes>"
      ]
     },
     "metadata": {
      "needs_background": "light"
     },
     "output_type": "display_data"
    }
   ],
   "source": [
    "from matplotlib.pyplot import figure,plot, show, xlabel, ylabel, legend\n",
    "def f(x):\n",
    "        \"The function we want to minimize\"\n",
    "        return (x-3)**2\n",
    "def f_grad(x):\n",
    "        \"gradient of function f\"\n",
    "        return 2*(x-3)\n",
    "x = 0\n",
    "y = f(x)\n",
    "err = 1.0\n",
    "maxIter = 300\n",
    "curve = [y]\n",
    "it = 0\n",
    "step = 0.1\n",
    "# Backtracking line search 的python实现\n",
    "x = 0\n",
    "y = f(x)\n",
    "err = 1.0\n",
    "alpha = 0.25\n",
    "beta = 0.8\n",
    "curve2 = [y]\n",
    "it = 0\n",
    " \n",
    "while err > 1e-4 and it < maxIter:\n",
    "    it += 1\n",
    "    gradient = f_grad(x)\n",
    "    step = 1.0\n",
    "    while f(x - step * gradient) > y - alpha * step * gradient**2:\n",
    "        step *= beta\n",
    "    x = x - step * gradient\n",
    "    new_y = f(x)\n",
    "    err = y - new_y\n",
    "    y = new_y\n",
    "    print (err,y)\n",
    "    curve2.append(y)\n",
    " \n",
    "# print 'iterations: ', it\n",
    "print(it)\n",
    "plot(curve2, 'bo-')\n",
    "legend(['gradient descent I used', 'backtracking line search'])\n",
    "show()\n",
    " "
   ]
  },
  {
   "cell_type": "markdown",
   "metadata": {},
   "source": [
    "## 自适应的learning rate\n",
    " ### AdaGrad算法\n",
    "\n",
    "Adagrad优化算法被称为自适应学习率优化算法，之前我们讲的随机梯度下降对所有的参数都使用的固定的学习率进行参数更新，但是不同的参数梯度可能不一样，所以需要不同的学习率才能比较好的进行训练，但是这个事情又不能很好地被人为操作，所以 AdaGrad 便能够帮助我们做这件事。\n",
    "\n",
    "<center>$ n_t=n_(t-1)+g_t^2$</center>\n",
    "<center>$ \\Delta \\theta _t=-\\frac{\\eta}{\\sqrt{n_t+\\epsilon}}*g_t $</center>\n",
    "\n",
    "其中$\\eta$是学习率，$g_t$是梯度\n",
    "**AdaGrad 的核心想法就是，如果一个参数的梯度一直都非常大，那么其对应的学习率就变小一点，防止震荡，而一个参数的梯度一直都非常小，那么这个参数的学习率就变大一点，使得其能够更快地更新** \n",
    "\n",
    "https://github.com/ivallesp/awesome-optimizers/blob/master/Report.ipynb"
   ]
  },
  {
   "cell_type": "code",
   "execution_count": null,
   "metadata": {},
   "outputs": [],
   "source": [
    "class AdaGrad(Optimizer):\n",
    "    def __init__(self, cost_f, lr=0.001, x=None, y=None):\n",
    "        super().__init__(cost_f=cost_f, lr=lr, x=x, y=y)\n",
    "        self.sumsq_dx = 0\n",
    "        self.sumsq_dy = 0\n",
    "        \n",
    "    def step(self, lr = None):\n",
    "        epsilon = 1e-8\n",
    "        if not lr:\n",
    "            lr = self.lr\n",
    "        # derivative\n",
    "        f = self.cost_f.eval(self.x, self.y)\n",
    "        dx = self.cost_f.df_dx(self.x, self.y)\n",
    "        dy = self.cost_f.df_dy(self.x, self.y)\n",
    "        self.sumsq_dx += dx**2\n",
    "        self.sumsq_dy += dy**2\n",
    "        self.x = self.x - (lr/(np.sqrt(epsilon + self.sumsq_dx)))*dx\n",
    "        self.y = self.y - (lr/(np.sqrt(epsilon + self.sumsq_dy)))*dy\n",
    "        \n",
    "        return [self.x, self.y]"
   ]
  },
  {
   "cell_type": "markdown",
   "metadata": {},
   "source": [
    "### AdaDelta 算法\n",
    "\n",
    "AdaDelta算法是对AdaGrad算法的改进。相比于AdaGard算法，AdaDelta算法有两大优势：(1) 解决了AdaGard算法学习率不断降低的问题，(2)动态确定学习率， 不需要提前设置学习率这一超参数。\n"
   ]
  },
  {
   "cell_type": "code",
   "execution_count": null,
   "metadata": {},
   "outputs": [],
   "source": [
    "class AdaDelta(Optimizer):\n",
    "    def __init__(self, cost_f, lr=0.001, decay_rate=0.9, x=None, y=None):\n",
    "        super().__init__(cost_f=cost_f, lr=lr, x=x, y=y, decay_rate=decay_rate)\n",
    "        self.decay_x = 0\n",
    "        self.decay_y = 0\n",
    "        self.decay_dx = 1\n",
    "        self.decay_dy = 1\n",
    "        \n",
    "    def step(self, lr=None, decay_rate=None):\n",
    "        epsilon = 1e-8\n",
    "        if not lr:\n",
    "            lr = self.lr\n",
    "        if not decay_rate:\n",
    "            decay_rate = self.decay_rate\n",
    "        # derivative\n",
    "        f = self.cost_f.eval(self.x, self.y)\n",
    "        dx = self.cost_f.df_dx(self.x, self.y)\n",
    "        dy = self.cost_f.df_dy(self.x, self.y)\n",
    "        # Update decays\n",
    "        self.decay_x = decay_rate * (self.decay_x) + (1-decay_rate)*dx**2\n",
    "        self.decay_y = decay_rate * (self.decay_y) + (1-decay_rate)*dy**2\n",
    "        \n",
    "        update_x = dx*((np.sqrt(epsilon + self.decay_dx))/(np.sqrt(epsilon + self.decay_x)))\n",
    "        update_y = dy*((np.sqrt(epsilon + self.decay_dy))/(np.sqrt(epsilon + self.decay_y)))\n",
    "        \n",
    "        self.x = self.x - (update_x)*lr\n",
    "        self.y = self.y - (update_y)*lr\n",
    "        \n",
    "        # Update decays d\n",
    "        self.decay_dx = decay_rate * (self.decay_dx) + (1-decay_rate)*update_x**2\n",
    "        self.decay_dy = decay_rate * (self.decay_dy) + (1-decay_rate)*update_y**2\n",
    "        \n",
    "        return [self.x, self.y]"
   ]
  },
  {
   "cell_type": "markdown",
   "metadata": {},
   "source": [
    "### RMSprop 算法\n",
    "特点：\n",
    "\n",
    "其实RMSprop依然依赖于全局学习率\n",
    "RMSprop算是Adagrad的一种发展，和Adadelta的变体，效果趋于二者之间\n",
    "适合处理非平稳目标 - 对于RNN效果很好"
   ]
  },
  {
   "cell_type": "code",
   "execution_count": null,
   "metadata": {},
   "outputs": [],
   "source": [
    "class RMSProp(Optimizer):\n",
    "    def __init__(self, cost_f, lr=0.001, decay_rate=0.9, x=None, y=None):\n",
    "        super().__init__(cost_f=cost_f, lr=lr, x=x, y=y, decay_rate=decay_rate)\n",
    "        self.ms_x = 0\n",
    "        self.ms_y = 0\n",
    "        \n",
    "    def step(self, lr=None, decay_rate=None):\n",
    "        epsilon = 1e-8\n",
    "        if not lr:\n",
    "            lr = self.lr\n",
    "        if not decay_rate:\n",
    "            decay_rate = self.decay_rate\n",
    "        # derivative\n",
    "        f = self.cost_f.eval(self.x, self.y)\n",
    "        dx = self.cost_f.df_dx(self.x, self.y)\n",
    "        dy = self.cost_f.df_dy(self.x, self.y)\n",
    "        self.ms_x = self.decay_rate * (self.ms_x) + (1-self.decay_rate)*dx**2\n",
    "        self.ms_y = self.decay_rate * (self.ms_y) + (1-self.decay_rate)*dy**2\n",
    "        self.x = self.x - (lr/(epsilon + np.sqrt(self.ms_x)))*dx\n",
    "        self.y = self.y - (lr/(epsilon + np.sqrt(self.ms_y)))*dy\n",
    "        \n",
    "        return [self.x, self.y]"
   ]
  },
  {
   "cell_type": "markdown",
   "metadata": {},
   "source": [
    "### Adam算法\n",
    "Adam(Adaptive Moment Estimation)本质上是带有动量项的RMSprop，它利用梯度的一阶矩估计和二阶矩估计动态调整每个参数的学习率。Adam的优点主要在于经过偏置校正后，每一次迭代学习率都有个确定范围，使得参数比较平稳。\n",
    "\n",
    "特点：\n",
    "结合了Adagrad善于处理稀疏梯度和RMSprop善于处理非平稳目标的优点\n",
    "对内存需求较小\n",
    "为不同的参数计算不同的自适应学习率\n",
    "也适用于大多非凸优化 - 适用于大数据集和高维空间"
   ]
  },
  {
   "cell_type": "code",
   "execution_count": null,
   "metadata": {},
   "outputs": [],
   "source": [
    "class AdaDelta(Optimizer):\n",
    "    def __init__(self, cost_f, lr=0.001, decay_rate=0.9, x=None, y=None):\n",
    "        super().__init__(cost_f=cost_f, lr=lr, x=x, y=y, decay_rate=decay_rate)\n",
    "        self.decay_x = 0\n",
    "        self.decay_y = 0\n",
    "        self.decay_dx = 1\n",
    "        self.decay_dy = 1\n",
    "        \n",
    "    def step(self, lr=None, decay_rate=None):\n",
    "        epsilon = 1e-8\n",
    "        if not lr:\n",
    "            lr = self.lr\n",
    "        if not decay_rate:\n",
    "            decay_rate = self.decay_rate\n",
    "        # derivative\n",
    "        f = self.cost_f.eval(self.x, self.y)\n",
    "        dx = self.cost_f.df_dx(self.x, self.y)\n",
    "        dy = self.cost_f.df_dy(self.x, self.y)\n",
    "        # Update decays\n",
    "        self.decay_x = decay_rate * (self.decay_x) + (1-decay_rate)*dx**2\n",
    "        self.decay_y = decay_rate * (self.decay_y) + (1-decay_rate)*dy**2\n",
    "        \n",
    "        update_x = dx*((np.sqrt(epsilon + self.decay_dx))/(np.sqrt(epsilon + self.decay_x)))\n",
    "        update_y = dy*((np.sqrt(epsilon + self.decay_dy))/(np.sqrt(epsilon + self.decay_y)))\n",
    "        \n",
    "        self.x = self.x - (update_x)*lr\n",
    "        self.y = self.y - (update_y)*lr\n",
    "        \n",
    "        # Update decays d\n",
    "        self.decay_dx = decay_rate * (self.decay_dx) + (1-decay_rate)*update_x**2\n",
    "        self.decay_dy = decay_rate * (self.decay_dy) + (1-decay_rate)*update_y**2\n",
    "        \n",
    "        return [self.x, self.y]"
   ]
  },
  {
   "cell_type": "markdown",
   "metadata": {},
   "source": [
    "![梯度下降算法的效果比较](https://pic1.zhimg.com/5d5166a3d3712e7c03af74b1ccacbeac_r.jpg)"
   ]
  },
  {
   "cell_type": "markdown",
   "metadata": {},
   "source": [
    "## Ridge 的作用\n",
    "\n",
    "Ridge回归是一种专用于共线性数据分析的有偏估计回归方法。Ridge的作用是保持所有变量，例如使用所有变量来建立模型，同时赋予它们重要度，从而提高模型的性能。当数据集中变量数量较少时，岭是一个很好的选择，因此需要所有这些变量来解释得到的“洞察力”和预测目标结果。\n",
    "\n",
    "由于Ridge保持了所有变量的完整性，并且lasso在分配变量的重要度方面做得更好，因此，结合Ridge和Lasso的最佳特性，组合出了“弹性网络”，作为开发算法。弹性网络是更理想的选择。\n",
    "\n",
    "在进行机器学习时，有更多方法来进行特征选择，基本思想通常保持不变：显示特征的重要度，然后根据获得的“重要度”消除变量。这里的重要度是一个非常主观的术语，因为它不是一个度量，而是度量和图形的集合，可以用来检查最重要的特征。\n"
   ]
  },
  {
   "cell_type": "markdown",
   "metadata": {},
   "source": []
  }
 ],
 "metadata": {
  "kernelspec": {
   "display_name": "Python 3",
   "language": "python",
   "name": "python3"
  },
  "language_info": {
   "codemirror_mode": {
    "name": "ipython",
    "version": 3
   },
   "file_extension": ".py",
   "mimetype": "text/x-python",
   "name": "python",
   "nbconvert_exporter": "python",
   "pygments_lexer": "ipython3",
   "version": "3.7.0"
  },
  "toc": {
   "base_numbering": 1,
   "nav_menu": {},
   "number_sections": true,
   "sideBar": true,
   "skip_h1_title": false,
   "title_cell": "Table of Contents",
   "title_sidebar": "Contents",
   "toc_cell": false,
   "toc_position": {
    "height": "calc(100% - 180px)",
    "left": "10px",
    "top": "150px",
    "width": "273.188px"
   },
   "toc_section_display": true,
   "toc_window_display": true
  }
 },
 "nbformat": 4,
 "nbformat_minor": 2
}
