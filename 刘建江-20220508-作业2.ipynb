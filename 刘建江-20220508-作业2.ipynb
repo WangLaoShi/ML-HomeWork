{
 "cells": [
  {
   "cell_type": "code",
   "execution_count": 53,
   "id": "d1a796c0",
   "metadata": {},
   "outputs": [
    {
     "name": "stdout",
     "output_type": "stream",
     "text": [
      "MSE:1.0625\n",
      "RMSE:1.0307764064044151\n",
      "MAE:0.875\n",
      "R_2:0.7875\n"
     ]
    }
   ],
   "source": [
    "import numpy as np\n",
    "\n",
    "def change_type(ytrue, ypred):\n",
    "    if type(ytrue) is not np.ndarray:\n",
    "        ytrue =  np.array(ytrue)\n",
    "    if type(ypred) is not np.ndarray:\n",
    "        ypred =  np.array(ypred)\n",
    "    return ypred, ytrue\n",
    "\n",
    "def MSE(ytrue, ypred):\n",
    "    return np.sum(np.square((ytrue - ypred)))/len(ytrue)\n",
    "\n",
    "def RMSE(ytrue, ypred):\n",
    "    return np.sqrt(np.sum(np.square((ytrue - ypred)))/len(ytrue))\n",
    "\n",
    "def MAE(ytrue, ypred):\n",
    "    return np.sum(np.abs((ytrue - ypred)))/len(ytrue)\n",
    "\n",
    "def R_2(ytrue, ypred):\n",
    "    SSR = np.sum(np.square((np.mean(ytrue) - ypred)))\n",
    "    SSE = np.sum(np.square((ytrue - ypred)))\n",
    "    SST = np.sum(np.square((ytrue - np.mean(ytrue))))\n",
    "    return 1 - SSE/SST\n",
    "\n",
    "ytrue = [1,3,5,7]\n",
    "ypred = [1,4,3.5,8]\n",
    "ypred, ytrue = change_type(ytrue,ypred)\n",
    "print('MSE:{}'.format(MSE(ytrue, ypred)))\n",
    "print('RMSE:{}'.format(RMSE(ytrue, ypred)))\n",
    "print('MAE:{}'.format(MAE(ytrue, ypred)))\n",
    "print('R_2:{}'.format(R_2(ytrue, ypred)))"
   ]
  },
  {
   "cell_type": "code",
   "execution_count": null,
   "id": "47b077b9",
   "metadata": {},
   "outputs": [],
   "source": []
  }
 ],
 "metadata": {
  "kernelspec": {
   "display_name": "Python 3 (ipykernel)",
   "language": "python",
   "name": "python3"
  },
  "language_info": {
   "codemirror_mode": {
    "name": "ipython",
    "version": 3
   },
   "file_extension": ".py",
   "mimetype": "text/x-python",
   "name": "python",
   "nbconvert_exporter": "python",
   "pygments_lexer": "ipython3",
   "version": "3.9.7"
  },
  "toc": {
   "base_numbering": 1,
   "nav_menu": {},
   "number_sections": true,
   "sideBar": true,
   "skip_h1_title": false,
   "title_cell": "Table of Contents",
   "title_sidebar": "Contents",
   "toc_cell": false,
   "toc_position": {},
   "toc_section_display": true,
   "toc_window_display": false
  },
  "varInspector": {
   "cols": {
    "lenName": 16,
    "lenType": 16,
    "lenVar": 40
   },
   "kernels_config": {
    "python": {
     "delete_cmd_postfix": "",
     "delete_cmd_prefix": "del ",
     "library": "var_list.py",
     "varRefreshCmd": "print(var_dic_list())"
    },
    "r": {
     "delete_cmd_postfix": ") ",
     "delete_cmd_prefix": "rm(",
     "library": "var_list.r",
     "varRefreshCmd": "cat(var_dic_list()) "
    }
   },
   "types_to_exclude": [
    "module",
    "function",
    "builtin_function_or_method",
    "instance",
    "_Feature"
   ],
   "window_display": false
  }
 },
 "nbformat": 4,
 "nbformat_minor": 5
}
