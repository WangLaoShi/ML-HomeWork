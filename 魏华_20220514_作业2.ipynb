{
 "cells": [
  {
   "cell_type": "markdown",
   "metadata": {},
   "source": [
    "## MSE 均方误差"
   ]
  },
  {
   "cell_type": "markdown",
   "metadata": {},
   "source": [
    "MSE表示估计值与真值的偏差，其公式和代码如下："
   ]
  },
  {
   "cell_type": "markdown",
   "metadata": {},
   "source": [
    "$$MSE = \\sum_{i=1}^{D}(x_i-y_i)^2$$"
   ]
  },
  {
   "cell_type": "code",
   "execution_count": 23,
   "metadata": {
    "ExecuteTime": {
     "end_time": "2022-05-14T05:43:57.186505Z",
     "start_time": "2022-05-14T05:43:57.167490Z"
    }
   },
   "outputs": [],
   "source": [
    "import numpy as np\n",
    "def mse_loss(y_true,y_pred):\n",
    "    mse_loss = np.sum(np.power(y_true - y_pred, 2))/y_true.shape[0]\n",
    "    return mse_loss\n"
   ]
  },
  {
   "cell_type": "markdown",
   "metadata": {},
   "source": [
    "## RMSE均方根误差"
   ]
  },
  {
   "cell_type": "markdown",
   "metadata": {},
   "source": [
    "RMSE是MSE的算术平方根，其代码如下："
   ]
  },
  {
   "cell_type": "code",
   "execution_count": 24,
   "metadata": {
    "ExecuteTime": {
     "end_time": "2022-05-14T05:44:04.110789Z",
     "start_time": "2022-05-14T05:44:04.089793Z"
    }
   },
   "outputs": [],
   "source": [
    "def rmse_loss(y_true,y_pred):\n",
    "    rmse_loss = np.squrt(np.sum(np.power(y_true - y_pred, 2))/y_true.shape[0])\n",
    "    return rmse_loss"
   ]
  },
  {
   "cell_type": "markdown",
   "metadata": {},
   "source": [
    "## MAE平均绝对误差"
   ]
  },
  {
   "cell_type": "markdown",
   "metadata": {},
   "source": [
    "MAE是平均绝对误差，其公式和代码如下："
   ]
  },
  {
   "cell_type": "markdown",
   "metadata": {},
   "source": [
    "$$MAE = \\sum_{i=1}^{D}|x_i-y_i|$$"
   ]
  },
  {
   "cell_type": "code",
   "execution_count": 26,
   "metadata": {
    "ExecuteTime": {
     "end_time": "2022-05-14T05:44:14.949605Z",
     "start_time": "2022-05-14T05:44:14.936609Z"
    }
   },
   "outputs": [],
   "source": [
    "def mae_loss(y_true,y_pred):\n",
    "    mae_loss = np.sum(np.abs(y_true - y_pred))/y_true.shape[0]\n",
    "    return mae_loss"
   ]
  },
  {
   "cell_type": "markdown",
   "metadata": {},
   "source": [
    "## R-squared"
   ]
  },
  {
   "cell_type": "markdown",
   "metadata": {},
   "source": [
    "R-squared用来衡量模型拟合度，取值在[0,1],即被解释方差/总方差，其公式和代码如下："
   ]
  },
  {
   "cell_type": "markdown",
   "metadata": {},
   "source": [
    "R-squared = SSR/SST = 1-SSE/SST  \n",
    "SST是原始数据和均值之差的平方和，SSR即预测数据和原始数据均值之差的平方和，回归模型不能解释的方差，SSE是拟合数据和原始数据对应点的误差的平方和，且SST= SSE+SSR"
   ]
  },
  {
   "cell_type": "code",
   "execution_count": 27,
   "metadata": {
    "ExecuteTime": {
     "end_time": "2022-05-14T05:44:17.844783Z",
     "start_time": "2022-05-14T05:44:17.837785Z"
    }
   },
   "outputs": [],
   "source": [
    "def r2(y_test, y_true):\n",
    "    r2 =  1 - ((y_test - y_true) ** 2).sum() / ((y_true - np.mean(y_true)) ** 2).sum()\n",
    "    return r2"
   ]
  },
  {
   "cell_type": "code",
   "execution_count": null,
   "metadata": {},
   "outputs": [],
   "source": []
  }
 ],
 "metadata": {
  "kernelspec": {
   "display_name": "Python 3",
   "language": "python",
   "name": "python3"
  },
  "language_info": {
   "codemirror_mode": {
    "name": "ipython",
    "version": 3
   },
   "file_extension": ".py",
   "mimetype": "text/x-python",
   "name": "python",
   "nbconvert_exporter": "python",
   "pygments_lexer": "ipython3",
   "version": "3.7.6"
  },
  "toc": {
   "base_numbering": 1,
   "nav_menu": {},
   "number_sections": true,
   "sideBar": true,
   "skip_h1_title": false,
   "title_cell": "Table of Contents",
   "title_sidebar": "Contents",
   "toc_cell": false,
   "toc_position": {},
   "toc_section_display": true,
   "toc_window_display": false
  }
 },
 "nbformat": 4,
 "nbformat_minor": 4
}
