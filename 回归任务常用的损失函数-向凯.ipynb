{
 "cells": [
  {
   "cell_type": "markdown",
   "id": "1c0e1aa5",
   "metadata": {},
   "source": [
    "# 1 Numpy实现"
   ]
  },
  {
   "cell_type": "code",
   "execution_count": 3,
   "id": "34318ed0",
   "metadata": {},
   "outputs": [],
   "source": [
    "import numpy as np\n",
    "y = np.array([1,1])\n",
    "y_hat = np.array([4,2])"
   ]
  },
  {
   "cell_type": "code",
   "execution_count": 5,
   "id": "010a4278",
   "metadata": {},
   "outputs": [
    {
     "data": {
      "text/plain": [
       "5.0"
      ]
     },
     "execution_count": 5,
     "metadata": {},
     "output_type": "execute_result"
    }
   ],
   "source": [
    "#1 MSE - 均方误差\n",
    "MSE = np.mean(np.square(y_hat-y))\n",
    "MSE"
   ]
  },
  {
   "cell_type": "code",
   "execution_count": 9,
   "id": "603b29b6",
   "metadata": {},
   "outputs": [
    {
     "data": {
      "text/plain": [
       "2.23606797749979"
      ]
     },
     "execution_count": 9,
     "metadata": {},
     "output_type": "execute_result"
    }
   ],
   "source": [
    "#2 RMSE - 均方根误差\n",
    "RMSE = np.sqrt(np.mean(np.square(y_hat-y)))\n",
    "RMSE"
   ]
  },
  {
   "cell_type": "code",
   "execution_count": 10,
   "id": "3286eef6",
   "metadata": {},
   "outputs": [
    {
     "data": {
      "text/plain": [
       "2.0"
      ]
     },
     "execution_count": 10,
     "metadata": {},
     "output_type": "execute_result"
    }
   ],
   "source": [
    "#3 MAE - 平均绝对误差\n",
    "MAE = np.mean(np.abs(y_hat-y))\n",
    "MAE"
   ]
  },
  {
   "cell_type": "code",
   "execution_count": 11,
   "id": "a6d354e1",
   "metadata": {},
   "outputs": [
    {
     "data": {
      "text/plain": [
       "-4.0"
      ]
     },
     "execution_count": 11,
     "metadata": {},
     "output_type": "execute_result"
    }
   ],
   "source": [
    "#4 R-squared  -R方/判定系数\n",
    "from sklearn.metrics import r2_score\n",
    "R2 = r2_score(y_hat,y)\n",
    "R2"
   ]
  },
  {
   "cell_type": "markdown",
   "id": "82793b75",
   "metadata": {},
   "source": [
    "# 2 Sklearn实现"
   ]
  },
  {
   "cell_type": "code",
   "execution_count": 12,
   "id": "679f2cb1",
   "metadata": {},
   "outputs": [
    {
     "data": {
      "text/plain": [
       "5.0"
      ]
     },
     "execution_count": 12,
     "metadata": {},
     "output_type": "execute_result"
    }
   ],
   "source": [
    "#1 MSE - 均方误差\n",
    "from sklearn import metrics\n",
    "y = np.array([1,1])\n",
    "y_hat = np.array([4,2])\n",
    "MSE = metrics.mean_squared_error(y, y_hat)\n",
    "MSE"
   ]
  },
  {
   "cell_type": "code",
   "execution_count": 13,
   "id": "c4de996b",
   "metadata": {},
   "outputs": [
    {
     "data": {
      "text/plain": [
       "2.23606797749979"
      ]
     },
     "execution_count": 13,
     "metadata": {},
     "output_type": "execute_result"
    }
   ],
   "source": [
    "#2 RMSE - 均方根误差\n",
    "RMSE = metrics.mean_squared_error(y, y_hat)**0.5\n",
    "RMSE"
   ]
  },
  {
   "cell_type": "code",
   "execution_count": 15,
   "id": "0b8307c7",
   "metadata": {},
   "outputs": [
    {
     "data": {
      "text/plain": [
       "2.0"
      ]
     },
     "execution_count": 15,
     "metadata": {},
     "output_type": "execute_result"
    }
   ],
   "source": [
    "#3 MAE - 平均绝对误差\n",
    "MAE = metrics.mean_absolute_error(y, y_hat)\n",
    "MAE"
   ]
  },
  {
   "cell_type": "code",
   "execution_count": 16,
   "id": "25aaa102",
   "metadata": {},
   "outputs": [
    {
     "data": {
      "text/plain": [
       "-4.0"
      ]
     },
     "execution_count": 16,
     "metadata": {},
     "output_type": "execute_result"
    }
   ],
   "source": [
    "#4 R-squared  -R方/判定系数\n",
    "from sklearn.metrics import r2_score\n",
    "R2 = r2_score(y_hat,y)\n",
    "R2"
   ]
  }
 ],
 "metadata": {
  "kernelspec": {
   "display_name": "Python 3 (ipykernel)",
   "language": "python",
   "name": "python3"
  },
  "language_info": {
   "codemirror_mode": {
    "name": "ipython",
    "version": 3
   },
   "file_extension": ".py",
   "mimetype": "text/x-python",
   "name": "python",
   "nbconvert_exporter": "python",
   "pygments_lexer": "ipython3",
   "version": "3.8.5"
  },
  "toc": {
   "base_numbering": 1,
   "nav_menu": {},
   "number_sections": true,
   "sideBar": true,
   "skip_h1_title": false,
   "title_cell": "Table of Contents",
   "title_sidebar": "Contents",
   "toc_cell": false,
   "toc_position": {},
   "toc_section_display": true,
   "toc_window_display": false
  }
 },
 "nbformat": 4,
 "nbformat_minor": 5
}
