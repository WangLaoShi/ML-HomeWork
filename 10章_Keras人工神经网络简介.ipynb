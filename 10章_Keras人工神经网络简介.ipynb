{
  "nbformat": 4,
  "nbformat_minor": 0,
  "metadata": {
    "colab": {
      "provenance": [],
      "toc_visible": true,
      "authorship_tag": "ABX9TyPMgGppxw5Gv/Lsvm6Hn9eH",
      "include_colab_link": true
    },
    "kernelspec": {
      "name": "python3",
      "display_name": "Python 3"
    },
    "language_info": {
      "name": "python"
    },
    "accelerator": "TPU",
    "gpuClass": "standard"
  },
  "cells": [
    {
      "cell_type": "markdown",
      "metadata": {
        "id": "view-in-github",
        "colab_type": "text"
      },
      "source": [
        "<a href=\"https://colab.research.google.com/github/edward920199115/ML-HomeWork/blob/main/10%E7%AB%A0_Keras%E4%BA%BA%E5%B7%A5%E7%A5%9E%E7%BB%8F%E7%BD%91%E7%BB%9C%E7%AE%80%E4%BB%8B.ipynb\" target=\"_parent\"><img src=\"https://colab.research.google.com/assets/colab-badge.svg\" alt=\"Open In Colab\"/></a>"
      ]
    },
    {
      "cell_type": "markdown",
      "source": [
        "##10.2 从生物神经元到人工神经元"
      ],
      "metadata": {
        "id": "SN9e7zWdBziq"
      }
    },
    {
      "cell_type": "markdown",
      "source": [
        "###10.2.1 安装Tensorflow2\n"
      ],
      "metadata": {
        "id": "myA7US4BCPzk"
      }
    },
    {
      "cell_type": "code",
      "source": [
        "import tensorflow as tf\n",
        "from tensorflow import keras"
      ],
      "metadata": {
        "id": "fnpFMFgxCX5t"
      },
      "execution_count": 1,
      "outputs": []
    },
    {
      "cell_type": "code",
      "source": [
        "tf.__version__"
      ],
      "metadata": {
        "colab": {
          "base_uri": "https://localhost:8080/",
          "height": 35
        },
        "id": "cgsEtuYKCpkK",
        "outputId": "b8657e51-6489-4179-8ed6-46fdb3ca850a"
      },
      "execution_count": 2,
      "outputs": [
        {
          "output_type": "execute_result",
          "data": {
            "text/plain": [
              "'2.12.0'"
            ],
            "application/vnd.google.colaboratory.intrinsic+json": {
              "type": "string"
            }
          },
          "metadata": {},
          "execution_count": 2
        }
      ]
    },
    {
      "cell_type": "code",
      "source": [
        "keras.__version__"
      ],
      "metadata": {
        "colab": {
          "base_uri": "https://localhost:8080/",
          "height": 35
        },
        "id": "8GP0XsaaCtxK",
        "outputId": "e0af5360-7873-4e5f-bd5a-63f79c2aa7cd"
      },
      "execution_count": 3,
      "outputs": [
        {
          "output_type": "execute_result",
          "data": {
            "text/plain": [
              "'2.12.0'"
            ],
            "application/vnd.google.colaboratory.intrinsic+json": {
              "type": "string"
            }
          },
          "metadata": {},
          "execution_count": 3
        }
      ]
    },
    {
      "cell_type": "markdown",
      "source": [
        "###10.2.2 使用顺序API构建图像分类器"
      ],
      "metadata": {
        "id": "26aZSJVKC1DI"
      }
    },
    {
      "cell_type": "code",
      "source": [
        "# 1.使用Keras加载数据集\n",
        "fashion_mnist = keras.datasets.fashion_mnist\n",
        "(X_train_full, y_train_full), (X_test, y_test) = fashion_mnist.load_data()"
      ],
      "metadata": {
        "colab": {
          "base_uri": "https://localhost:8080/"
        },
        "id": "MjEUOSuwC50Z",
        "outputId": "8436d456-aa63-48cf-c6c0-64d524c296b6"
      },
      "execution_count": 4,
      "outputs": [
        {
          "output_type": "stream",
          "name": "stdout",
          "text": [
            "Downloading data from https://storage.googleapis.com/tensorflow/tf-keras-datasets/train-labels-idx1-ubyte.gz\n",
            "29515/29515 [==============================] - 0s 0us/step\n",
            "Downloading data from https://storage.googleapis.com/tensorflow/tf-keras-datasets/train-images-idx3-ubyte.gz\n",
            "26421880/26421880 [==============================] - 0s 0us/step\n",
            "Downloading data from https://storage.googleapis.com/tensorflow/tf-keras-datasets/t10k-labels-idx1-ubyte.gz\n",
            "5148/5148 [==============================] - 0s 0us/step\n",
            "Downloading data from https://storage.googleapis.com/tensorflow/tf-keras-datasets/t10k-images-idx3-ubyte.gz\n",
            "4422102/4422102 [==============================] - 0s 0us/step\n"
          ]
        }
      ]
    },
    {
      "cell_type": "code",
      "source": [
        "# 2.查看训练集的形状和数据类型\n",
        "X_train_full.shape"
      ],
      "metadata": {
        "colab": {
          "base_uri": "https://localhost:8080/"
        },
        "id": "ipWEu3pQDlCY",
        "outputId": "ccec813a-c24d-4376-9ee1-7567fd591870"
      },
      "execution_count": 5,
      "outputs": [
        {
          "output_type": "execute_result",
          "data": {
            "text/plain": [
              "(60000, 28, 28)"
            ]
          },
          "metadata": {},
          "execution_count": 5
        }
      ]
    },
    {
      "cell_type": "code",
      "source": [
        "X_train_full.dtype"
      ],
      "metadata": {
        "colab": {
          "base_uri": "https://localhost:8080/"
        },
        "id": "0_QFVnC2DyeR",
        "outputId": "116abef6-04f2-4ae8-d3ef-3bd2367e04ed"
      },
      "execution_count": 6,
      "outputs": [
        {
          "output_type": "execute_result",
          "data": {
            "text/plain": [
              "dtype('uint8')"
            ]
          },
          "metadata": {},
          "execution_count": 6
        }
      ]
    },
    {
      "cell_type": "code",
      "source": [
        "# 3.划分验证集，并将输入特征转化为0-1之间\n",
        "X_valid, X_train = X_train_full[:5000] / 255.0, X_train_full[5000:]/255.0\n",
        "y_valid, y_train = y_train_full[:5000], y_train_full[5000:]"
      ],
      "metadata": {
        "id": "t5FPQJiZD-Ly"
      },
      "execution_count": 7,
      "outputs": []
    },
    {
      "cell_type": "code",
      "source": [
        "# 4.不同与手写数字，Fashion MNIST需要一个类名列表来知道我们处理的内容。\n",
        "class_names = [\"T-shirt/top\", \"Trouser\", \"Pullover\", \"Dress\", \"Coat\",\n",
        "               \"Sandal\", \"Shirt\", \"Sneaker\", \"Bag\", \"Ankle boot\"]"
      ],
      "metadata": {
        "id": "50-eW1ssEhBe"
      },
      "execution_count": 8,
      "outputs": []
    },
    {
      "cell_type": "code",
      "source": [
        "# 查看训练集中的某个图像\n",
        "print(class_names[y_train[0]])\n",
        "print(class_names[y_train[1]])\n",
        "print(class_names[y_train[2]])"
      ],
      "metadata": {
        "colab": {
          "base_uri": "https://localhost:8080/"
        },
        "id": "QxHJV7ybE5DS",
        "outputId": "d90d40c3-27a7-40b6-c6ca-bce3d65fd26a"
      },
      "execution_count": 9,
      "outputs": [
        {
          "output_type": "stream",
          "name": "stdout",
          "text": [
            "Coat\n",
            "T-shirt/top\n",
            "Sneaker\n"
          ]
        }
      ]
    },
    {
      "cell_type": "code",
      "source": [
        "28*28"
      ],
      "metadata": {
        "colab": {
          "base_uri": "https://localhost:8080/"
        },
        "id": "p4rD735QFqYW",
        "outputId": "3def5e0a-a882-497d-d346-dd28f96c95cf"
      },
      "execution_count": 10,
      "outputs": [
        {
          "output_type": "execute_result",
          "data": {
            "text/plain": [
              "784"
            ]
          },
          "metadata": {},
          "execution_count": 10
        }
      ]
    },
    {
      "cell_type": "code",
      "source": [
        "# 5.使用顺序API创建模型,先创建一个具有2个隐藏层的分类MLP\n",
        "# Flatten v. 使...变平\n",
        "model = keras.models.Sequential()\n",
        "model.add(keras.layers.Flatten(input_shape=[28,28])) # 将图像转化为一维数组\n",
        "model.add(keras.layers.Dense(300,activation=\"relu\")) # 300个神经元\n",
        "model.add(keras.layers.Dense(100,activation=\"relu\"))\n",
        "model.add(keras.layers.Dense(10,activation=\"softmax\"))"
      ],
      "metadata": {
        "id": "PnFN4uwzFQAJ"
      },
      "execution_count": 11,
      "outputs": []
    },
    {
      "cell_type": "code",
      "source": [
        "# 6.查看制作神经网络模型的所有层\n",
        "model.summary()"
      ],
      "metadata": {
        "colab": {
          "base_uri": "https://localhost:8080/"
        },
        "id": "kwQ5I8e5F210",
        "outputId": "d4ca0439-39de-45db-c2c6-626afd27dcc8"
      },
      "execution_count": 12,
      "outputs": [
        {
          "output_type": "stream",
          "name": "stdout",
          "text": [
            "Model: \"sequential\"\n",
            "_________________________________________________________________\n",
            " Layer (type)                Output Shape              Param #   \n",
            "=================================================================\n",
            " flatten (Flatten)           (None, 784)               0         \n",
            "                                                                 \n",
            " dense (Dense)               (None, 300)               235500    \n",
            "                                                                 \n",
            " dense_1 (Dense)             (None, 100)               30100     \n",
            "                                                                 \n",
            " dense_2 (Dense)             (None, 10)                1010      \n",
            "                                                                 \n",
            "=================================================================\n",
            "Total params: 266,610\n",
            "Trainable params: 266,610\n",
            "Non-trainable params: 0\n",
            "_________________________________________________________________\n"
          ]
        }
      ]
    },
    {
      "cell_type": "code",
      "source": [
        "784*300+300 # 第一层与第二层之间有784*300个权重w，外加300个偏置b"
      ],
      "metadata": {
        "colab": {
          "base_uri": "https://localhost:8080/"
        },
        "id": "5fUdLQKxH7YA",
        "outputId": "38bf740d-b636-4d16-8f11-dd2af6549340"
      },
      "execution_count": 13,
      "outputs": [
        {
          "output_type": "execute_result",
          "data": {
            "text/plain": [
              "235500"
            ]
          },
          "metadata": {},
          "execution_count": 13
        }
      ]
    },
    {
      "cell_type": "code",
      "source": [
        "#7.获取模型的层列表\n",
        "model.layers "
      ],
      "metadata": {
        "colab": {
          "base_uri": "https://localhost:8080/"
        },
        "id": "5LEr2nTaILYt",
        "outputId": "11e92818-2657-4f9f-9fe4-9ca48e5a3a9d"
      },
      "execution_count": 14,
      "outputs": [
        {
          "output_type": "execute_result",
          "data": {
            "text/plain": [
              "[<keras.layers.reshaping.flatten.Flatten at 0x7fd008107eb0>,\n",
              " <keras.layers.core.dense.Dense at 0x7fcf7b2f7fd0>,\n",
              " <keras.layers.core.dense.Dense at 0x7fcf5e644d60>,\n",
              " <keras.layers.core.dense.Dense at 0x7fcf5e644d90>]"
            ]
          },
          "metadata": {},
          "execution_count": 14
        }
      ]
    },
    {
      "cell_type": "code",
      "source": [
        "#8.按层索引获取层\n",
        "hidden1 = model.layers[1] "
      ],
      "metadata": {
        "id": "F8VPDRAiIaO-"
      },
      "execution_count": 15,
      "outputs": []
    },
    {
      "cell_type": "code",
      "source": [
        "hidden1.name"
      ],
      "metadata": {
        "colab": {
          "base_uri": "https://localhost:8080/",
          "height": 35
        },
        "id": "FDPbjSIPIwlE",
        "outputId": "ea61f08d-25a9-4b01-f112-209324a2ab9e"
      },
      "execution_count": 16,
      "outputs": [
        {
          "output_type": "execute_result",
          "data": {
            "text/plain": [
              "'dense'"
            ],
            "application/vnd.google.colaboratory.intrinsic+json": {
              "type": "string"
            }
          },
          "metadata": {},
          "execution_count": 16
        }
      ]
    },
    {
      "cell_type": "code",
      "source": [
        "#9.按名称获取层\n",
        "model.get_layer('dense') is hidden1 "
      ],
      "metadata": {
        "colab": {
          "base_uri": "https://localhost:8080/"
        },
        "id": "UmEn0HRlI3jA",
        "outputId": "63434b49-592d-4bbb-8dab-5266d8368ea9"
      },
      "execution_count": 17,
      "outputs": [
        {
          "output_type": "execute_result",
          "data": {
            "text/plain": [
              "True"
            ]
          },
          "metadata": {},
          "execution_count": 17
        }
      ]
    },
    {
      "cell_type": "code",
      "source": [
        "#10.访问层的所有参数\n",
        "weights, biases = hidden1.get_weights()"
      ],
      "metadata": {
        "id": "sllGMgxTJLNy"
      },
      "execution_count": 18,
      "outputs": []
    },
    {
      "cell_type": "code",
      "source": [
        "weights"
      ],
      "metadata": {
        "colab": {
          "base_uri": "https://localhost:8080/"
        },
        "id": "5XRsG_3DJn9r",
        "outputId": "55ffde94-8ed6-4803-e675-4cbd96ca7f0b"
      },
      "execution_count": 19,
      "outputs": [
        {
          "output_type": "execute_result",
          "data": {
            "text/plain": [
              "array([[ 0.00752527, -0.04467747,  0.04742545, ...,  0.02197213,\n",
              "         0.02994265,  0.05672842],\n",
              "       [ 0.03158768, -0.07421775,  0.01915623, ..., -0.04649031,\n",
              "        -0.04420719, -0.01929738],\n",
              "       [ 0.00816996,  0.06779312, -0.02652978, ..., -0.05694493,\n",
              "         0.03033815,  0.02300826],\n",
              "       ...,\n",
              "       [-0.06872929, -0.05231122,  0.07071543, ..., -0.04496317,\n",
              "         0.07345973,  0.0425822 ],\n",
              "       [ 0.00757295,  0.03343101, -0.04614008, ..., -0.01515774,\n",
              "         0.00407886,  0.02701227],\n",
              "       [-0.05973123, -0.06984734,  0.00019749, ..., -0.04933341,\n",
              "        -0.00785074, -0.01746428]], dtype=float32)"
            ]
          },
          "metadata": {},
          "execution_count": 19
        }
      ]
    },
    {
      "cell_type": "code",
      "source": [
        "weights.shape"
      ],
      "metadata": {
        "colab": {
          "base_uri": "https://localhost:8080/"
        },
        "id": "miwKho23Jrnk",
        "outputId": "d3d25051-737f-4f06-9329-a4e1e1491d31"
      },
      "execution_count": 20,
      "outputs": [
        {
          "output_type": "execute_result",
          "data": {
            "text/plain": [
              "(784, 300)"
            ]
          },
          "metadata": {},
          "execution_count": 20
        }
      ]
    },
    {
      "cell_type": "code",
      "source": [
        "biases"
      ],
      "metadata": {
        "colab": {
          "base_uri": "https://localhost:8080/"
        },
        "id": "c-NofZYgJ3C0",
        "outputId": "3da08055-1750-471e-a2c4-b27930e584c9"
      },
      "execution_count": 21,
      "outputs": [
        {
          "output_type": "execute_result",
          "data": {
            "text/plain": [
              "array([0., 0., 0., 0., 0., 0., 0., 0., 0., 0., 0., 0., 0., 0., 0., 0., 0.,\n",
              "       0., 0., 0., 0., 0., 0., 0., 0., 0., 0., 0., 0., 0., 0., 0., 0., 0.,\n",
              "       0., 0., 0., 0., 0., 0., 0., 0., 0., 0., 0., 0., 0., 0., 0., 0., 0.,\n",
              "       0., 0., 0., 0., 0., 0., 0., 0., 0., 0., 0., 0., 0., 0., 0., 0., 0.,\n",
              "       0., 0., 0., 0., 0., 0., 0., 0., 0., 0., 0., 0., 0., 0., 0., 0., 0.,\n",
              "       0., 0., 0., 0., 0., 0., 0., 0., 0., 0., 0., 0., 0., 0., 0., 0., 0.,\n",
              "       0., 0., 0., 0., 0., 0., 0., 0., 0., 0., 0., 0., 0., 0., 0., 0., 0.,\n",
              "       0., 0., 0., 0., 0., 0., 0., 0., 0., 0., 0., 0., 0., 0., 0., 0., 0.,\n",
              "       0., 0., 0., 0., 0., 0., 0., 0., 0., 0., 0., 0., 0., 0., 0., 0., 0.,\n",
              "       0., 0., 0., 0., 0., 0., 0., 0., 0., 0., 0., 0., 0., 0., 0., 0., 0.,\n",
              "       0., 0., 0., 0., 0., 0., 0., 0., 0., 0., 0., 0., 0., 0., 0., 0., 0.,\n",
              "       0., 0., 0., 0., 0., 0., 0., 0., 0., 0., 0., 0., 0., 0., 0., 0., 0.,\n",
              "       0., 0., 0., 0., 0., 0., 0., 0., 0., 0., 0., 0., 0., 0., 0., 0., 0.,\n",
              "       0., 0., 0., 0., 0., 0., 0., 0., 0., 0., 0., 0., 0., 0., 0., 0., 0.,\n",
              "       0., 0., 0., 0., 0., 0., 0., 0., 0., 0., 0., 0., 0., 0., 0., 0., 0.,\n",
              "       0., 0., 0., 0., 0., 0., 0., 0., 0., 0., 0., 0., 0., 0., 0., 0., 0.,\n",
              "       0., 0., 0., 0., 0., 0., 0., 0., 0., 0., 0., 0., 0., 0., 0., 0., 0.,\n",
              "       0., 0., 0., 0., 0., 0., 0., 0., 0., 0., 0.], dtype=float32)"
            ]
          },
          "metadata": {},
          "execution_count": 21
        }
      ]
    },
    {
      "cell_type": "code",
      "source": [
        "biases.shape"
      ],
      "metadata": {
        "colab": {
          "base_uri": "https://localhost:8080/"
        },
        "id": "yD20DV43J6LG",
        "outputId": "793911f2-d64d-4ba0-e48e-089c361119de"
      },
      "execution_count": 22,
      "outputs": [
        {
          "output_type": "execute_result",
          "data": {
            "text/plain": [
              "(300,)"
            ]
          },
          "metadata": {},
          "execution_count": 22
        }
      ]
    },
    {
      "cell_type": "code",
      "source": [
        "#11.编译模型\n",
        "from tensorflow.python.training.saver import metrics\n",
        "from keras.utils.sidecar_evaluator import optimizer\n",
        "\n",
        "\"\"\"\n",
        "1、如何选loss？\n",
        "①多分类任务，且label为one-hot就用loss=\"categorical_crossentropy\"\n",
        "②多分类任务，且label为interger就用loss=\"sparse_categorical_crossentropy\"\n",
        "③2分类任务，就用loss=\"bibary_crossentropy\"\n",
        "\n",
        "2、如何选输出层的激活函数？\n",
        "①2分类：用sigmoid\n",
        "②多分类：用softmax\n",
        "③Relu或改进ReLu效率是最高的，因为它不会激活所有神经元。\n",
        "\"\"\"\n",
        "model.compile(loss=\"sparse_categorical_crossentropy\", # 交叉熵损失函数\n",
        "        optimizer=\"sgd\",\n",
        "        metrics=[\"accuracy\"]) # 分类器需要测量accuracy"
      ],
      "metadata": {
        "id": "WQ1Hcn0gKSDh"
      },
      "execution_count": 23,
      "outputs": []
    },
    {
      "cell_type": "code",
      "source": [
        "#12.训练和评估模型\n",
        "\"\"\"\n",
        "通常，在训练有监督的机器学习模型的时候，会将数据划分为训练集、验证集合测试集，划分比例一般为6:2:2。对原始数据进行三个集合的划分，是为了能够选出效果（可以理解为准确率）最好的、泛化能力最佳的模型。\n",
        "①训练集train_set\n",
        "作用是用来拟合模型，通过设置分类器的参数，训练分类模型。后续结合验证集作用时，会选出同一参数的不同取值，拟合出多个分类器。\n",
        "②验证集Cross Validation set\n",
        "调整超参数（反向传播调整不了）\n",
        "作用是当通过训练集训练出多个模型后，为了能找出效果最佳的模型，使用各个模型对验证集数据进行预测，并记录模型准确率。选出效果最佳的模型所对应的参数，即用来调整模型参数。如svn中的参数c和核函数等\n",
        "若训练集的性能远远好于验证集，说明模型可能过拟合了\n",
        "③测试集Test set\n",
        "通过训练集和验证集得出最优模型后，使用测试集进行模型预测。用来衡量该最优模型的性能和分类能力。即可以把测试集当做从来不存在的数据集，当已经确定模型参数后，使用测试集进行模型性能评价。\n",
        "\n",
        "防止模型过拟合。当使用了所有的原始数据去训练模型，得到的结果很可能是该模型最大程度地拟合了原始数据，亦即该模型是为了拟合所有原始数据而存在。当新的样本出现，再使用该模型进行预测，效果可能还不如只使用一部分数据训练的模型。\n",
        "\n",
        "\n",
        "\"\"\"\n",
        "history = model.fit(X_train, y_train, epochs=30,\n",
        "                    validation_data=(X_valid,y_valid))\n",
        "\n",
        "# 结论1：随着训练轮次的增加，训练loss损失逐渐减少，模型越来越接近真实\n",
        "# 结论2：经过30个训练轮次后，验证准确率（精度）val_accuracy达到了89.52%，这与训练准确率accuracy91.97%相差不大，似乎没发生过拟合。"
      ],
      "metadata": {
        "colab": {
          "base_uri": "https://localhost:8080/"
        },
        "id": "mPeWVy4IOdDo",
        "outputId": "27505080-0689-4a0b-9f1f-dd74b30ddbe8"
      },
      "execution_count": 24,
      "outputs": [
        {
          "output_type": "stream",
          "name": "stdout",
          "text": [
            "Epoch 1/30\n",
            "1719/1719 [==============================] - 11s 6ms/step - loss: 0.6986 - accuracy: 0.7693 - val_loss: 0.5184 - val_accuracy: 0.8178\n",
            "Epoch 2/30\n",
            "1719/1719 [==============================] - 10s 6ms/step - loss: 0.4827 - accuracy: 0.8311 - val_loss: 0.4407 - val_accuracy: 0.8496\n",
            "Epoch 3/30\n",
            "1719/1719 [==============================] - 9s 5ms/step - loss: 0.4412 - accuracy: 0.8454 - val_loss: 0.4222 - val_accuracy: 0.8576\n",
            "Epoch 4/30\n",
            "1719/1719 [==============================] - 10s 6ms/step - loss: 0.4133 - accuracy: 0.8548 - val_loss: 0.4197 - val_accuracy: 0.8520\n",
            "Epoch 5/30\n",
            "1719/1719 [==============================] - 9s 5ms/step - loss: 0.3948 - accuracy: 0.8619 - val_loss: 0.3798 - val_accuracy: 0.8692\n",
            "Epoch 6/30\n",
            "1719/1719 [==============================] - 9s 5ms/step - loss: 0.3781 - accuracy: 0.8666 - val_loss: 0.3699 - val_accuracy: 0.8728\n",
            "Epoch 7/30\n",
            "1719/1719 [==============================] - 10s 6ms/step - loss: 0.3655 - accuracy: 0.8699 - val_loss: 0.3716 - val_accuracy: 0.8704\n",
            "Epoch 8/30\n",
            "1719/1719 [==============================] - 9s 5ms/step - loss: 0.3536 - accuracy: 0.8733 - val_loss: 0.3546 - val_accuracy: 0.8752\n",
            "Epoch 9/30\n",
            "1719/1719 [==============================] - 10s 6ms/step - loss: 0.3432 - accuracy: 0.8777 - val_loss: 0.3783 - val_accuracy: 0.8658\n",
            "Epoch 10/30\n",
            "1719/1719 [==============================] - 9s 5ms/step - loss: 0.3344 - accuracy: 0.8807 - val_loss: 0.3424 - val_accuracy: 0.8742\n",
            "Epoch 11/30\n",
            "1719/1719 [==============================] - 9s 5ms/step - loss: 0.3263 - accuracy: 0.8835 - val_loss: 0.3400 - val_accuracy: 0.8766\n",
            "Epoch 12/30\n",
            "1719/1719 [==============================] - 10s 6ms/step - loss: 0.3177 - accuracy: 0.8861 - val_loss: 0.3315 - val_accuracy: 0.8816\n",
            "Epoch 13/30\n",
            "1719/1719 [==============================] - 8s 5ms/step - loss: 0.3102 - accuracy: 0.8883 - val_loss: 0.3276 - val_accuracy: 0.8814\n",
            "Epoch 14/30\n",
            "1719/1719 [==============================] - 10s 6ms/step - loss: 0.3041 - accuracy: 0.8913 - val_loss: 0.3279 - val_accuracy: 0.8812\n",
            "Epoch 15/30\n",
            "1719/1719 [==============================] - 10s 6ms/step - loss: 0.2972 - accuracy: 0.8932 - val_loss: 0.3311 - val_accuracy: 0.8800\n",
            "Epoch 16/30\n",
            "1719/1719 [==============================] - 8s 5ms/step - loss: 0.2910 - accuracy: 0.8940 - val_loss: 0.3263 - val_accuracy: 0.8798\n",
            "Epoch 17/30\n",
            "1719/1719 [==============================] - 10s 6ms/step - loss: 0.2863 - accuracy: 0.8972 - val_loss: 0.3306 - val_accuracy: 0.8814\n",
            "Epoch 18/30\n",
            "1719/1719 [==============================] - 9s 5ms/step - loss: 0.2799 - accuracy: 0.8982 - val_loss: 0.3094 - val_accuracy: 0.8860\n",
            "Epoch 19/30\n",
            "1719/1719 [==============================] - 9s 5ms/step - loss: 0.2744 - accuracy: 0.9005 - val_loss: 0.3084 - val_accuracy: 0.8876\n",
            "Epoch 20/30\n",
            "1719/1719 [==============================] - 10s 6ms/step - loss: 0.2696 - accuracy: 0.9027 - val_loss: 0.3088 - val_accuracy: 0.8874\n",
            "Epoch 21/30\n",
            "1719/1719 [==============================] - 8s 5ms/step - loss: 0.2648 - accuracy: 0.9039 - val_loss: 0.3171 - val_accuracy: 0.8804\n",
            "Epoch 22/30\n",
            "1719/1719 [==============================] - 10s 6ms/step - loss: 0.2600 - accuracy: 0.9059 - val_loss: 0.3048 - val_accuracy: 0.8918\n",
            "Epoch 23/30\n",
            "1719/1719 [==============================] - 10s 6ms/step - loss: 0.2556 - accuracy: 0.9067 - val_loss: 0.3163 - val_accuracy: 0.8858\n",
            "Epoch 24/30\n",
            "1719/1719 [==============================] - 9s 5ms/step - loss: 0.2515 - accuracy: 0.9088 - val_loss: 0.3024 - val_accuracy: 0.8938\n",
            "Epoch 25/30\n",
            "1719/1719 [==============================] - 10s 6ms/step - loss: 0.2466 - accuracy: 0.9114 - val_loss: 0.3035 - val_accuracy: 0.8862\n",
            "Epoch 26/30\n",
            "1719/1719 [==============================] - 11s 6ms/step - loss: 0.2427 - accuracy: 0.9116 - val_loss: 0.3083 - val_accuracy: 0.8862\n",
            "Epoch 27/30\n",
            "1719/1719 [==============================] - 10s 6ms/step - loss: 0.2396 - accuracy: 0.9136 - val_loss: 0.3160 - val_accuracy: 0.8832\n",
            "Epoch 28/30\n",
            "1719/1719 [==============================] - 10s 6ms/step - loss: 0.2342 - accuracy: 0.9154 - val_loss: 0.3001 - val_accuracy: 0.8888\n",
            "Epoch 29/30\n",
            "1719/1719 [==============================] - 10s 6ms/step - loss: 0.2305 - accuracy: 0.9161 - val_loss: 0.2931 - val_accuracy: 0.8926\n",
            "Epoch 30/30\n",
            "1719/1719 [==============================] - 8s 5ms/step - loss: 0.2277 - accuracy: 0.9190 - val_loss: 0.3019 - val_accuracy: 0.8878\n"
          ]
        }
      ]
    },
    {
      "cell_type": "code",
      "source": [
        "#13.查看学习曲线\n",
        "# 每个轮次测得的平均训练损失和准确率，以及每个轮次结束时测得的平均验证损失和准确率\n",
        "import pandas as pd\n",
        "import matplotlib.pyplot as plt\n",
        "\n",
        "pd.DataFrame(history.history).plot(figsize=(8,5))\n",
        "plt.grid(True)\n",
        "plt.gca().set_ylim(0,1) #使用matplotlib库中的pyplot模块中的gca()函数来获取当前的Axes对象，然后使用setylim()函数将y轴的范围设置为0到1。这将确保y轴的范围在0到1之间，以便更好地显示数据。\n",
        "plt.show()"
      ],
      "metadata": {
        "colab": {
          "base_uri": "https://localhost:8080/",
          "height": 423
        },
        "id": "XkFNpvTDVKBy",
        "outputId": "3c4af3af-abf5-4337-dedf-9d91589f4c98"
      },
      "execution_count": 25,
      "outputs": [
        {
          "output_type": "display_data",
          "data": {
            "text/plain": [
              "<Figure size 800x500 with 1 Axes>"
            ],
            "image/png": "[encoded data removed]"
          },
          "metadata": {}
        }
      ]
    },
    {
      "cell_type": "code",
      "source": [
        "# 若对模型不满意可以调整模型的几个超参数\n",
        "\"\"\"\n",
        "①首先可以调学习率\n",
        "②其次更改优化器\n",
        "③调整模型超参数：层数、每层神经元数机用于每个隐藏层的激活函数类型\n",
        "④批处理大小fit(batch_size) ，默认32\n",
        "⑤sample_weight\n",
        "\n",
        "\"\"\""
      ],
      "metadata": {
        "id": "RcnB3aGcXPWB",
        "colab": {
          "base_uri": "https://localhost:8080/",
          "height": 54
        },
        "outputId": "35e7fbd0-c0cd-459a-a2a4-2f1ac35389fc"
      },
      "execution_count": 26,
      "outputs": [
        {
          "output_type": "execute_result",
          "data": {
            "text/plain": [
              "'\\n①首先可以调学习率\\n②其次更改优化器\\n③调整模型超参数：层数、每层神经元数机用于每个隐藏层的激活函数类型\\n④批处理大小fit(batch_size) ，默认32\\n⑤sample_weight\\n\\n'"
            ],
            "application/vnd.google.colaboratory.intrinsic+json": {
              "type": "string"
            }
          },
          "metadata": {},
          "execution_count": 26
        }
      ]
    },
    {
      "cell_type": "code",
      "source": [
        "#14.评估模型\n",
        "model.evaluate(X_test,y_test)"
      ],
      "metadata": {
        "colab": {
          "base_uri": "https://localhost:8080/"
        },
        "id": "8WF_747MXtMx",
        "outputId": "d5953f6a-cdf7-4dcd-826d-53dec38f4e24"
      },
      "execution_count": 27,
      "outputs": [
        {
          "output_type": "stream",
          "name": "stdout",
          "text": [
            "313/313 [==============================] - 2s 6ms/step - loss: 53.2599 - accuracy: 0.8617\n"
          ]
        },
        {
          "output_type": "execute_result",
          "data": {
            "text/plain": [
              "[53.259918212890625, 0.8616999983787537]"
            ]
          },
          "metadata": {},
          "execution_count": 27
        }
      ]
    },
    {
      "cell_type": "code",
      "source": [
        "#15.使用模型进行预测\n",
        "\"\"\"\n",
        "一行代表一个实例，对于每个实例，模型估计从0类到9类每个类的概率\n",
        "例：对于第一个实例，模型认为其为第9种类型的概率为100%\n",
        "\"\"\"\n",
        "X_new = X_test[:3]\n",
        "y_proba = model.predict(X_new)\n",
        "y_proba.round(2)"
      ],
      "metadata": {
        "colab": {
          "base_uri": "https://localhost:8080/"
        },
        "id": "D_eqJSj6X7Z8",
        "outputId": "0d9b8eb0-1849-4253-f17c-dafc0f0e59ba"
      },
      "execution_count": 28,
      "outputs": [
        {
          "output_type": "stream",
          "name": "stdout",
          "text": [
            "1/1 [==============================] - 1s 528ms/step\n"
          ]
        },
        {
          "output_type": "execute_result",
          "data": {
            "text/plain": [
              "array([[0., 0., 0., 0., 0., 0., 0., 0., 0., 1.],\n",
              "       [0., 0., 1., 0., 0., 0., 0., 0., 0., 0.],\n",
              "       [0., 1., 0., 0., 0., 0., 0., 0., 0., 0.]], dtype=float32)"
            ]
          },
          "metadata": {},
          "execution_count": 28
        }
      ]
    },
    {
      "cell_type": "code",
      "source": [
        "# 只关心概率最高的类,可以使用predict方法来获取每个类别的概率分数，然后使用argmax函数获取最高概率的类别\n",
        "y_pred_prob = model.predict(X_new)\n",
        "y_pred = y_pred_prob.argmax(axis=-1)\n",
        "y_pred"
      ],
      "metadata": {
        "colab": {
          "base_uri": "https://localhost:8080/"
        },
        "id": "hVsj15DYY3Kz",
        "outputId": "4127ad36-80b0-4f36-fccf-dfcb65a04db5"
      },
      "execution_count": 29,
      "outputs": [
        {
          "output_type": "stream",
          "name": "stdout",
          "text": [
            "1/1 [==============================] - 0s 36ms/step\n"
          ]
        },
        {
          "output_type": "execute_result",
          "data": {
            "text/plain": [
              "array([9, 2, 1])"
            ]
          },
          "metadata": {},
          "execution_count": 29
        }
      ]
    },
    {
      "cell_type": "markdown",
      "source": [
        "###10.2.3使用顺序API构建回归MLP"
      ],
      "metadata": {
        "id": "dgqhIiDrZ9E-"
      }
    },
    {
      "cell_type": "code",
      "source": [
        "#1.加载加州住房数据，并直接将其分成训练集、验证集和测试集，再按比例缩放所有特征（由于其只有数字特征，且没有缺失值，所以直接分数据即可）\n",
        "from sklearn.datasets import fetch_california_housing\n",
        "from sklearn.model_selection import train_test_split\n",
        "from sklearn.preprocessing import StandardScaler\n",
        "housing = fetch_california_housing()\n",
        "\n",
        "X_train_full, X_test, y_train_full, y_test = train_test_split(housing.data, housing.target)\n",
        "X_train, X_valid, y_train, y_valid = train_test_split(X_train_full, y_train_full)\n",
        "scaler = StandardScaler()\n",
        "X_train = scaler.fit_transform(X_train)\n",
        "X_valid = scaler.transform(X_valid)\n",
        "X_test = scaler.transform(X_test)"
      ],
      "metadata": {
        "id": "94Ii2VBpQEgx"
      },
      "execution_count": 39,
      "outputs": []
    },
    {
      "cell_type": "code",
      "source": [
        "#2.使用顺序API构建、训练、评估和使用回归MLP模型\n",
        "\n",
        "# 构建模型\n",
        "model = keras.models.Sequential([\n",
        "    keras.layers.Dense(30,activation=\"relu\", input_shape=X_train.shape[1:]),\n",
        "    keras.layers.Dense(1) # 输出层仅有1个神经元\n",
        "])\n",
        "\n",
        "# 编译模型\n",
        "model.compile(loss=\"mean_squared_error\", optimizer=\"sgd\")\n",
        "\n",
        "# 训练模型\n",
        "hostory = model.fit(X_train, y_train, epochs=20, validation_data=(X_valid, y_valid))\n",
        "\n",
        "# 评估模型\n",
        "mse_test = model.evaluate(X_test, y_test)\n",
        "\n",
        "# 预测（使用模型）\n",
        "X_new = X_test[:3] # 假设这些都是新的实例\n",
        "y_pred = model.predict(X_new)"
      ],
      "metadata": {
        "colab": {
          "base_uri": "https://localhost:8080/"
        },
        "id": "NokwcF9kTPVg",
        "outputId": "a205cd1f-3d8c-4dc2-a792-088a5f4b32e5"
      },
      "execution_count": 40,
      "outputs": [
        {
          "output_type": "stream",
          "name": "stdout",
          "text": [
            "Epoch 1/20\n",
            "363/363 [==============================] - 2s 5ms/step - loss: 1.1062 - val_loss: 21.1818\n",
            "Epoch 2/20\n",
            "363/363 [==============================] - 2s 6ms/step - loss: 1.0235 - val_loss: 0.5490\n",
            "Epoch 3/20\n",
            "363/363 [==============================] - 2s 5ms/step - loss: 0.4512 - val_loss: 0.4304\n",
            "Epoch 4/20\n",
            "363/363 [==============================] - 2s 6ms/step - loss: 0.4132 - val_loss: 0.4208\n",
            "Epoch 5/20\n",
            "363/363 [==============================] - 4s 11ms/step - loss: 0.3982 - val_loss: 0.4101\n",
            "Epoch 6/20\n",
            "363/363 [==============================] - 1s 2ms/step - loss: 0.3905 - val_loss: 0.4100\n",
            "Epoch 7/20\n",
            "363/363 [==============================] - 1s 3ms/step - loss: 0.3854 - val_loss: 0.3978\n",
            "Epoch 8/20\n",
            "363/363 [==============================] - 1s 2ms/step - loss: 0.3812 - val_loss: 0.3977\n",
            "Epoch 9/20\n",
            "363/363 [==============================] - 1s 2ms/step - loss: 0.3727 - val_loss: 0.4042\n",
            "Epoch 10/20\n",
            "363/363 [==============================] - 1s 2ms/step - loss: 0.3705 - val_loss: 0.3969\n",
            "Epoch 11/20\n",
            "363/363 [==============================] - 1s 2ms/step - loss: 0.3670 - val_loss: 0.3994\n",
            "Epoch 12/20\n",
            "363/363 [==============================] - 1s 2ms/step - loss: 0.3645 - val_loss: 0.3953\n",
            "Epoch 13/20\n",
            "363/363 [==============================] - 1s 3ms/step - loss: 0.3617 - val_loss: 0.3983\n",
            "Epoch 14/20\n",
            "363/363 [==============================] - 1s 2ms/step - loss: 0.3611 - val_loss: 0.3916\n",
            "Epoch 15/20\n",
            "363/363 [==============================] - 1s 2ms/step - loss: 0.3585 - val_loss: 0.3922\n",
            "Epoch 16/20\n",
            "363/363 [==============================] - 1s 2ms/step - loss: 0.3587 - val_loss: 0.3908\n",
            "Epoch 17/20\n",
            "363/363 [==============================] - 1s 2ms/step - loss: 0.3581 - val_loss: 0.3882\n",
            "Epoch 18/20\n",
            "363/363 [==============================] - 1s 3ms/step - loss: 0.3545 - val_loss: 0.3841\n",
            "Epoch 19/20\n",
            "363/363 [==============================] - 1s 3ms/step - loss: 0.3552 - val_loss: 0.3859\n",
            "Epoch 20/20\n",
            "363/363 [==============================] - 1s 3ms/step - loss: 0.3522 - val_loss: 0.3828\n",
            "162/162 [==============================] - 0s 1ms/step - loss: 0.3367\n",
            "1/1 [==============================] - 0s 51ms/step\n"
          ]
        }
      ]
    },
    {
      "cell_type": "code",
      "source": [
        "# 3.查看学习曲线\n",
        "# 查看训练和验证损失的图片\n",
        "import matplotlib.pyplot as plt\n",
        "\n",
        "train_loss = hostory.history['loss']\n",
        "val_loss = hostory.history['val_loss']\n",
        "\n",
        "plt.plot(train_loss, label='Training loss')\n",
        "plt.plot(val_loss, label='Validation loss')\n",
        "plt.xlabel('Epoch')\n",
        "plt.ylabel('Loss')\n",
        "plt.legend()\n",
        "plt.show()"
      ],
      "metadata": {
        "colab": {
          "base_uri": "https://localhost:8080/",
          "height": 449
        },
        "id": "QXAXDnDJVx1d",
        "outputId": "d915c971-a8c8-4119-aacf-19431c9018b2"
      },
      "execution_count": 42,
      "outputs": [
        {
          "output_type": "display_data",
          "data": {
            "text/plain": [
              "<Figure size 640x480 with 1 Axes>"
            ],
            "image/png": "[encoded data removed]"
          },
          "metadata": {}
        }
      ]
    },
    {
      "cell_type": "markdown",
      "source": [
        "###10.2.4使用函数式API构建复杂模型 P436\n",
        "\n",
        "没咋看\n",
        "\n"
      ],
      "metadata": {
        "id": "E5J3JS9bXyg7"
      }
    },
    {
      "cell_type": "code",
      "source": [
        "input_ = keras.layers.Input(shape=X_train.shape[1:])\n",
        "hidden1 = keras.layers.Dense(30, activation=\"relu\")(input_)\n",
        "hidden2 = keras.layers.Dense(30, activation=\"relu\")(hidden1)\n",
        "concat = keras.layers.Concatenate()([input_, hidden2])\n",
        "output = keras.layers.Dense(1)(concat)\n",
        "model = keras.Model(inputs=[input_],outputs=[output])"
      ],
      "metadata": {
        "id": "GaiqR1aLYGw9"
      },
      "execution_count": 38,
      "outputs": []
    },
    {
      "cell_type": "markdown",
      "source": [
        "###10.2.5使用子类API构建动态模型 P442\n",
        "没看 "
      ],
      "metadata": {
        "id": "T5Tj35lgmVo7"
      }
    },
    {
      "cell_type": "markdown",
      "source": [
        "###10.2.6保存和还原模型P443\n",
        "保存训练好的模型，避免下次训练浪费时间"
      ],
      "metadata": {
        "id": "vgYFoSX6mzVB"
      }
    },
    {
      "cell_type": "code",
      "source": [
        "#1.保存训练好的keras模型\n",
        "model.save(\"my_keras_10.2.3mdoel.h5\")"
      ],
      "metadata": {
        "id": "IMycd7ranVrz"
      },
      "execution_count": 44,
      "outputs": []
    },
    {
      "cell_type": "code",
      "source": [
        "#2.加载模型\n",
        "model = keras.models.load_model(\"my_keras_10.2.3mdoel.h5\")"
      ],
      "metadata": {
        "id": "CRPisdk8n3sM"
      },
      "execution_count": 46,
      "outputs": []
    },
    {
      "cell_type": "markdown",
      "source": [
        "###10.2.7使用回调函数\n",
        "（没看）\n",
        "如果训练持续几个小时怎么办？这是很常见的，尤其是在大\n",
        "型数据集上进行训练时。在这种情况下，你不仅应该在训练结束时保存\n",
        "模型，还应该在训练过程中定期保存检查点，以免在计算机崩溃时丢失\n",
        "所有内容。但是如何告诉fit（）方法保存检查点呢？使用回调"
      ],
      "metadata": {
        "id": "Hqu1ImJ9oOd_"
      }
    },
    {
      "cell_type": "markdown",
      "source": [],
      "metadata": {
        "id": "fMXez0210HAE"
      }
    },
    {
      "cell_type": "markdown",
      "source": [
        "###10.2.8使用TensorBoard进行可视化\n",
        "没看"
      ],
      "metadata": {
        "id": "s5bnC-7dqf5S"
      }
    },
    {
      "cell_type": "markdown",
      "source": [
        "##10.3 微调神经网络超参数\n",
        "\n",
        "更多的超参数调整可以参考文献：\n",
        "Leslie N.Smith ， “A Disciplined Approach to Neural\n",
        "Network Hyper-Parameters：Part 1—Learning Rate，Batch Size，\n",
        "Momentum ， and Weight Decay” ， arXiv preprint arXiv ：\n",
        "1803.09820（2018）.\n",
        "\n"
      ],
      "metadata": {
        "id": "vEv3BFSZrRqP"
      }
    },
    {
      "cell_type": "code",
      "source": [
        "#1.创建一个函数，在给定一组超参数的情况下构建并编译Keras模型\n",
        "def build_model(n_hidden=1, n_neurons=30, learning_rate=3e-3, input_shape=[8]):\n",
        "  model = keras.models.Sequential()\n",
        "  model.add(keras.layers.InputLayer(input_shape=input_shape))\n",
        "  for layer in range(n_hidden):\n",
        "    model.add(keras.layers.Dense(n_neurons, activatio=\"relu\"))\n",
        "  model.add(keras.layers.Dense(1))\n",
        "  optimizer = keras.optimizers.SGD(lr=learning_rate)\n",
        "  model.compile(loss=\"mse\", optimizer=optimizer)\n",
        "  return model"
      ],
      "metadata": {
        "id": "N-CJqb1DsJ6e"
      },
      "execution_count": 47,
      "outputs": []
    },
    {
      "cell_type": "code",
      "source": [
        "#2.基于build_model()函数创建一个KerasRegressor\n",
        "keras_reg = keras.wrappers.scikit_learn.KerasRegressor(build_model)"
      ],
      "metadata": {
        "colab": {
          "base_uri": "https://localhost:8080/"
        },
        "id": "4ivaHI0Iti4W",
        "outputId": "212c86d3-2850-4c93-dd67-834113819b87"
      },
      "execution_count": 48,
      "outputs": [
        {
          "output_type": "stream",
          "name": "stderr",
          "text": [
            "<ipython-input-48-0d5744524108>:2: DeprecationWarning: KerasRegressor is deprecated, use Sci-Keras (https://github.com/adriangb/scikeras) instead. See https://www.adriangb.com/scikeras/stable/migration.html for help migrating.\n",
            "  keras_reg = keras.wrappers.scikit_learn.KerasRegressor(build_model)\n"
          ]
        }
      ]
    },
    {
      "cell_type": "code",
      "source": [
        "#3.可以像常规一样，使用fit()方法进行训练，使用score()方法进行评估，使用predict()方法进行预测。\n",
        "model.fit(X_train, y_train, epochs=100, validation_data=(X_valid, y_valid), callbacks=[keras.callbacks.EarlyStopping(patience=10)], activation='relu')\n",
        "mse_test = model.evaluate(X_test, y_test)\n",
        "y_pred = model.predict(X_new)"
      ],
      "metadata": {
        "colab": {
          "base_uri": "https://localhost:8080/",
          "height": 438
        },
        "id": "4ymI-9Gpt13p",
        "outputId": "5b926b6c-7af0-444e-b06a-7c6ff3d60775"
      },
      "execution_count": 52,
      "outputs": [
        {
          "output_type": "error",
          "ename": "TypeError",
          "evalue": "ignored",
          "traceback": [
            "\u001b[0;31m---------------------------------------------------------------------------\u001b[0m",
            "\u001b[0;31mTypeError\u001b[0m                                 Traceback (most recent call last)",
            "\u001b[0;32m<ipython-input-52-8a0d58fd59d7>\u001b[0m in \u001b[0;36m<cell line: 2>\u001b[0;34m()\u001b[0m\n\u001b[1;32m      1\u001b[0m \u001b[0;31m#3.可以像常规一样，使用fit()方法进行训练，使用score()方法进行评估，使用predict()方法进行预测。\u001b[0m\u001b[0;34m\u001b[0m\u001b[0;34m\u001b[0m\u001b[0m\n\u001b[0;32m----> 2\u001b[0;31m \u001b[0mmodel\u001b[0m\u001b[0;34m.\u001b[0m\u001b[0mfit\u001b[0m\u001b[0;34m(\u001b[0m\u001b[0mX_train\u001b[0m\u001b[0;34m,\u001b[0m \u001b[0my_train\u001b[0m\u001b[0;34m,\u001b[0m \u001b[0mepochs\u001b[0m\u001b[0;34m=\u001b[0m\u001b[0;36m100\u001b[0m\u001b[0;34m,\u001b[0m \u001b[0mvalidation_data\u001b[0m\u001b[0;34m=\u001b[0m\u001b[0;34m(\u001b[0m\u001b[0mX_valid\u001b[0m\u001b[0;34m,\u001b[0m \u001b[0my_valid\u001b[0m\u001b[0;34m)\u001b[0m\u001b[0;34m,\u001b[0m \u001b[0mcallbacks\u001b[0m\u001b[0;34m=\u001b[0m\u001b[0;34m[\u001b[0m\u001b[0mkeras\u001b[0m\u001b[0;34m.\u001b[0m\u001b[0mcallbacks\u001b[0m\u001b[0;34m.\u001b[0m\u001b[0mEarlyStopping\u001b[0m\u001b[0;34m(\u001b[0m\u001b[0mpatience\u001b[0m\u001b[0;34m=\u001b[0m\u001b[0;36m10\u001b[0m\u001b[0;34m)\u001b[0m\u001b[0;34m]\u001b[0m\u001b[0;34m,\u001b[0m \u001b[0mactivation\u001b[0m\u001b[0;34m=\u001b[0m\u001b[0;34m'relu'\u001b[0m\u001b[0;34m)\u001b[0m\u001b[0;34m\u001b[0m\u001b[0;34m\u001b[0m\u001b[0m\n\u001b[0m\u001b[1;32m      3\u001b[0m \u001b[0mmse_test\u001b[0m \u001b[0;34m=\u001b[0m \u001b[0mmodel\u001b[0m\u001b[0;34m.\u001b[0m\u001b[0mevaluate\u001b[0m\u001b[0;34m(\u001b[0m\u001b[0mX_test\u001b[0m\u001b[0;34m,\u001b[0m \u001b[0my_test\u001b[0m\u001b[0;34m)\u001b[0m\u001b[0;34m\u001b[0m\u001b[0;34m\u001b[0m\u001b[0m\n\u001b[1;32m      4\u001b[0m \u001b[0my_pred\u001b[0m \u001b[0;34m=\u001b[0m \u001b[0mmodel\u001b[0m\u001b[0;34m.\u001b[0m\u001b[0mpredict\u001b[0m\u001b[0;34m(\u001b[0m\u001b[0mX_new\u001b[0m\u001b[0;34m)\u001b[0m\u001b[0;34m\u001b[0m\u001b[0;34m\u001b[0m\u001b[0m\n",
            "\u001b[0;32m/usr/local/lib/python3.10/dist-packages/keras/utils/traceback_utils.py\u001b[0m in \u001b[0;36merror_handler\u001b[0;34m(*args, **kwargs)\u001b[0m\n\u001b[1;32m     68\u001b[0m             \u001b[0;31m# To get the full stack trace, call:\u001b[0m\u001b[0;34m\u001b[0m\u001b[0;34m\u001b[0m\u001b[0m\n\u001b[1;32m     69\u001b[0m             \u001b[0;31m# `tf.debugging.disable_traceback_filtering()`\u001b[0m\u001b[0;34m\u001b[0m\u001b[0;34m\u001b[0m\u001b[0m\n\u001b[0;32m---> 70\u001b[0;31m             \u001b[0;32mraise\u001b[0m \u001b[0me\u001b[0m\u001b[0;34m.\u001b[0m\u001b[0mwith_traceback\u001b[0m\u001b[0;34m(\u001b[0m\u001b[0mfiltered_tb\u001b[0m\u001b[0;34m)\u001b[0m \u001b[0;32mfrom\u001b[0m \u001b[0;32mNone\u001b[0m\u001b[0;34m\u001b[0m\u001b[0;34m\u001b[0m\u001b[0m\n\u001b[0m\u001b[1;32m     71\u001b[0m         \u001b[0;32mfinally\u001b[0m\u001b[0;34m:\u001b[0m\u001b[0;34m\u001b[0m\u001b[0;34m\u001b[0m\u001b[0m\n\u001b[1;32m     72\u001b[0m             \u001b[0;32mdel\u001b[0m \u001b[0mfiltered_tb\u001b[0m\u001b[0;34m\u001b[0m\u001b[0;34m\u001b[0m\u001b[0m\n",
            "\u001b[0;32m/usr/local/lib/python3.10/dist-packages/keras/utils/traceback_utils.py\u001b[0m in \u001b[0;36merror_handler\u001b[0;34m(*args, **kwargs)\u001b[0m\n\u001b[1;32m     63\u001b[0m         \u001b[0mfiltered_tb\u001b[0m \u001b[0;34m=\u001b[0m \u001b[0;32mNone\u001b[0m\u001b[0;34m\u001b[0m\u001b[0;34m\u001b[0m\u001b[0m\n\u001b[1;32m     64\u001b[0m         \u001b[0;32mtry\u001b[0m\u001b[0;34m:\u001b[0m\u001b[0;34m\u001b[0m\u001b[0;34m\u001b[0m\u001b[0m\n\u001b[0;32m---> 65\u001b[0;31m             \u001b[0;32mreturn\u001b[0m \u001b[0mfn\u001b[0m\u001b[0;34m(\u001b[0m\u001b[0;34m*\u001b[0m\u001b[0margs\u001b[0m\u001b[0;34m,\u001b[0m \u001b[0;34m**\u001b[0m\u001b[0mkwargs\u001b[0m\u001b[0;34m)\u001b[0m\u001b[0;34m\u001b[0m\u001b[0;34m\u001b[0m\u001b[0m\n\u001b[0m\u001b[1;32m     66\u001b[0m         \u001b[0;32mexcept\u001b[0m \u001b[0mException\u001b[0m \u001b[0;32mas\u001b[0m \u001b[0me\u001b[0m\u001b[0;34m:\u001b[0m\u001b[0;34m\u001b[0m\u001b[0;34m\u001b[0m\u001b[0m\n\u001b[1;32m     67\u001b[0m             \u001b[0mfiltered_tb\u001b[0m \u001b[0;34m=\u001b[0m \u001b[0m_process_traceback_frames\u001b[0m\u001b[0;34m(\u001b[0m\u001b[0me\u001b[0m\u001b[0;34m.\u001b[0m\u001b[0m__traceback__\u001b[0m\u001b[0;34m)\u001b[0m\u001b[0;34m\u001b[0m\u001b[0;34m\u001b[0m\u001b[0m\n",
            "\u001b[0;31mTypeError\u001b[0m: Model.fit() got an unexpected keyword argument 'activation'"
          ]
        }
      ]
    },
    {
      "cell_type": "markdown",
      "source": [
        "###10.3.1隐藏层数量\n",
        "对于复杂的问题，深层网络的参数效率要比浅层网络高得多：与浅层网络相比，深层网络可以使用更少的神经元对复杂的函数进行建模，从而使它们在相同数量的训练数据下可以获得更好的性能"
      ],
      "metadata": {
        "id": "-71dFcQswTs1"
      }
    },
    {
      "cell_type": "markdown",
      "source": [
        "###10.3.2每个隐藏层的神经元数量\n",
        "通常将隐藏层调整大小以形成金字塔状，每层的神经元越来越少，因为许多低层特征可以合并成更少的高层特征。"
      ],
      "metadata": {
        "id": "nFtSpnt4wmGF"
      }
    },
    {
      "cell_type": "markdown",
      "source": [
        "###10.3.3 学习率、批量大小和其他超参数"
      ],
      "metadata": {
        "id": "GT-GIvyzxXdl"
      }
    },
    {
      "cell_type": "markdown",
      "source": [
        " 1.【学习率】\n",
        "一般而言，最佳学习率约为最大学习率的一半（即学习率大于算法发散的学习率，如我们在第4章中看到的）。"
      ],
      "metadata": {
        "id": "9udkbpncxdyZ"
      }
    },
    {
      "cell_type": "markdown",
      "source": [
        "2.【优化器】\n",
        "选择比普通的小批量梯度下降更好的优化器（并调整其超参数）也很重要。我们将在第11章中了解几个高级优化器"
      ],
      "metadata": {
        "id": "OYCIJSVIxqPb"
      }
    },
    {
      "cell_type": "markdown",
      "source": [
        "3.【批量大小】"
      ],
      "metadata": {
        "id": "O0RBZyppxzOU"
      }
    },
    {
      "cell_type": "markdown",
      "source": [
        "4.【激活函数】\n",
        "①隐藏层都用ReLu\n",
        "②输出层二分类就用sigmoid；多分类就用softmax；其他的tanh、Relu取决于任务"
      ],
      "metadata": {
        "id": "E1jbi3j4x9US"
      }
    },
    {
      "cell_type": "markdown",
      "source": [
        "5.【迭代次数】不需要调整，可以使用提前停止"
      ],
      "metadata": {
        "id": "1WDQuNleyOqk"
      }
    }
  ]
}